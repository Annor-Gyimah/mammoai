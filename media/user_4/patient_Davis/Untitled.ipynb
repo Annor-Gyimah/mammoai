{
 "cells": [
  {
   "cell_type": "code",
   "execution_count": 2,
   "id": "b20abda1-722d-45a0-851c-1553816fb622",
   "metadata": {},
   "outputs": [],
   "source": [
    "import xarray as xr"
   ]
  },
  {
   "cell_type": "code",
   "execution_count": 1,
   "id": "8ec1d0b3-6cef-4269-9ec7-51c883c8d806",
   "metadata": {},
   "outputs": [
    {
     "name": "stdout",
     "output_type": "stream",
     "text": [
      " Volume in drive C has no label.\n",
      " Volume Serial Number is ACB7-5060\n",
      "\n",
      " Directory of C:\\Users\\Gyimah\\Desktop\\Codes\n",
      "\n",
      "17/07/2024  06:25 pm    <DIR>          .\n",
      "17/07/2024  06:25 pm    <DIR>          ..\n",
      "17/07/2024  06:23 pm    <DIR>          .ipynb_checkpoints\n",
      "17/07/2024  06:25 pm               810 Untitled.ipynb\n",
      "               1 File(s)            810 bytes\n",
      "               3 Dir(s)  50,053,349,376 bytes free\n"
     ]
    }
   ],
   "source": [
    "ls"
   ]
  },
  {
   "cell_type": "code",
   "execution_count": null,
   "id": "e5148b0f-eed4-4380-8476-907558bcc911",
   "metadata": {},
   "outputs": [],
   "source": []
  }
 ],
 "metadata": {
  "kernelspec": {
   "display_name": "Python 3 (ipykernel)",
   "language": "python",
   "name": "python3"
  },
  "language_info": {
   "codemirror_mode": {
    "name": "ipython",
    "version": 3
   },
   "file_extension": ".py",
   "mimetype": "text/x-python",
   "name": "python",
   "nbconvert_exporter": "python",
   "pygments_lexer": "ipython3",
   "version": "3.12.4"
  }
 },
 "nbformat": 4,
 "nbformat_minor": 5
}
